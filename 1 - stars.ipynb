{
 "cells": [
  {
   "cell_type": "code",
   "execution_count": null,
   "metadata": {},
   "outputs": [],
   "source": [
    "rows = 6\n",
    "for i in range(1, rows):\n",
    "    #num = 1\n",
    "    for j in range(rows, 0, -1):\n",
    "        if j > i:\n",
    "            print(\" \", end=' ')\n",
    "        else:\n",
    "            print(\"*\", end=' ')\n",
    "            #num += 1\n",
    "    print(\"\")\n",
    "\n",
    "    # 1'e 1, 2'ye 2 vb... matris gibi düşünürsem okumak daha kolay oluyor "
   ]
  },
  {
   "cell_type": "code",
   "execution_count": null,
   "metadata": {},
   "outputs": [],
   "source": [
    "rows = 5\n",
    "for i in range(0, rows):\n",
    "    #num = 1\n",
    "    for j in range(0,rows , 1):\n",
    "        if j > i:\n",
    "            print(\" \", end=' ')\n",
    "        else:\n",
    "            print(\"*\", end=' ')\n",
    "            #num += 1\n",
    "    print(\"\")\n",
    "\n",
    "    # 1'e 1, 2'ye 2 vb... matris gibi düşünürsem okumak daha kolay oluyor \n",
    "    "
   ]
  },
  {
   "cell_type": "code",
   "execution_count": null,
   "metadata": {},
   "outputs": [],
   "source": [
    "number = 5\n",
    "for n in range(number):\n",
    "  print(\"* \"*(5-n))"
   ]
  },
  {
   "cell_type": "code",
   "execution_count": null,
   "metadata": {},
   "outputs": [],
   "source": [
    "rows = 6\n",
    "for i in range(0, rows):\n",
    "    #num = 1\n",
    "    for j in range(1, rows, 1):\n",
    "        if j > i:\n",
    "            print(\"*\", end=' ')\n",
    "        else:\n",
    "            print(\" \", end=' ')\n",
    "            #num += 1\n",
    "    print(\"\")\n",
    "\n",
    "    # 1'e 1, 2'ye 2 vb... matris gibi düşünürsem okumak daha kolay oluyor "
   ]
  },
  {
   "cell_type": "code",
   "execution_count": null,
   "metadata": {},
   "outputs": [],
   "source": [
    "rows = 6\n",
    "for i in range(0, rows):\n",
    "    #num = 1\n",
    "    for j in range(0, rows, 1):\n",
    "        if j > i:\n",
    "            print(\" *\", end= '')\n",
    "        else:\n",
    "            print(\" \", end= '')\n",
    "            #num += 1\n",
    "    print()\n",
    "\n",
    "    # 1'e 1, 2'ye 2 vb... matris gibi düşünürsem okumak daha kolay oluyor "
   ]
  },
  {
   "cell_type": "code",
   "execution_count": null,
   "metadata": {},
   "outputs": [],
   "source": [
    "rows = 6\n",
    "for i in range(1, rows):\n",
    "    #num = 1\n",
    "    for j in range(rows, 0, -1):\n",
    "        if j > i:\n",
    "            print(\" \", end=' ')\n",
    "        else:\n",
    "            print(\"* *\", end=' ')\n",
    "            #num += 1\n",
    "    print(\"\")\n",
    "   \n"
   ]
  },
  {
   "cell_type": "code",
   "execution_count": null,
   "metadata": {},
   "outputs": [],
   "source": [
    "rows = 6\n",
    "for i in range(0, rows):\n",
    "    #num = 1\n",
    "    for j in range(0, rows, 1):\n",
    "        if j > i:\n",
    "            print(\"* *\", end=' ')\n",
    "        else:\n",
    "            print(\" \", end=' ')\n",
    "            #num += 1\n",
    "    print(\"\")"
   ]
  },
  {
   "cell_type": "code",
   "execution_count": null,
   "metadata": {},
   "outputs": [],
   "source": [
    "rows = 6\n",
    "print(\"*\" * rows, end=\"\\n\")\n",
    "i = (rows // 2) - 1\n",
    "j = 2\n",
    "while i != 0:\n",
    "    while j <= (rows - 2):\n",
    "        print(\"*\" * i, end=\"\")\n",
    "        print(\" \" * j, end=\"\")\n",
    "        print(\"*\" * i, end=\"\\n\")\n",
    "        i = i - 1\n",
    "        j = j + 2"
   ]
  }
 ],
 "metadata": {
  "language_info": {
   "name": "python"
  },
  "orig_nbformat": 4
 },
 "nbformat": 4,
 "nbformat_minor": 2
}
