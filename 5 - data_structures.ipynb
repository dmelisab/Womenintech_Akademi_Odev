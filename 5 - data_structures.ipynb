{
 "cells": [
  {
   "cell_type": "code",
   "execution_count": 5,
   "metadata": {},
   "outputs": [
    {
     "name": "stdout",
     "output_type": "stream",
     "text": [
      "[2, 3, 0, 5]\n"
     ]
    }
   ],
   "source": [
    "my_list =[]\n",
    "additionlist=[]\n",
    "howmany = int(input(\"Number of elements that will be in the list: \"))\n",
    "\n",
    "for i in range(0,howmany):\n",
    "    tobeadded = int(input())\n",
    "    my_list.append(tobeadded)\n",
    "\n",
    "target = int(input(\"Type the number that you want the addition of two other numbers in the list to add up to: \"))\n",
    "\n",
    "def expectedoutcome():\n",
    "    for item in my_list:\n",
    "        for otheritem in my_list:\n",
    "            if item != otheritem and item + otheritem == target:\n",
    "                additionlist.append(item)\n",
    "                if item not in additionlist:\n",
    "                    additionlist.append(otheritem)\n",
    "    print(additionlist)\n",
    "\n",
    "expectedoutcome()"
   ]
  }
 ],
 "metadata": {
  "kernelspec": {
   "display_name": "Python 3.10.2 64-bit",
   "language": "python",
   "name": "python3"
  },
  "language_info": {
   "codemirror_mode": {
    "name": "ipython",
    "version": 3
   },
   "file_extension": ".py",
   "mimetype": "text/x-python",
   "name": "python",
   "nbconvert_exporter": "python",
   "pygments_lexer": "ipython3",
   "version": "3.10.2"
  },
  "orig_nbformat": 4,
  "vscode": {
   "interpreter": {
    "hash": "26de051ba29f2982a8de78e945f0abaf191376122a1563185a90213a26c5da77"
   }
  }
 },
 "nbformat": 4,
 "nbformat_minor": 2
}
