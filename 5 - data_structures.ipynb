{
 "cells": [
  {
   "cell_type": "code",
   "execution_count": 1,
   "metadata": {},
   "outputs": [
    {
     "ename": "ValueError",
     "evalue": "invalid literal for int() with base 10: ''",
     "output_type": "error",
     "traceback": [
      "\u001b[1;31m---------------------------------------------------------------------------\u001b[0m",
      "\u001b[1;31mValueError\u001b[0m                                Traceback (most recent call last)",
      "Cell \u001b[1;32mIn [1], line 3\u001b[0m\n\u001b[0;32m      1\u001b[0m my_list \u001b[38;5;241m=\u001b[39m[]\n\u001b[0;32m      2\u001b[0m additionlist\u001b[38;5;241m=\u001b[39m[]\n\u001b[1;32m----> 3\u001b[0m howmany \u001b[38;5;241m=\u001b[39m \u001b[38;5;28mint\u001b[39m(\u001b[38;5;28minput\u001b[39m(\u001b[38;5;124m\"\u001b[39m\u001b[38;5;124mNumber of elements that will be in the list: \u001b[39m\u001b[38;5;124m\"\u001b[39m))\n\u001b[0;32m      5\u001b[0m \u001b[38;5;28;01mfor\u001b[39;00m i \u001b[38;5;129;01min\u001b[39;00m \u001b[38;5;28mrange\u001b[39m(\u001b[38;5;241m0\u001b[39m,howmany):\n\u001b[0;32m      6\u001b[0m     tobeadded \u001b[38;5;241m=\u001b[39m \u001b[38;5;28mint\u001b[39m(\u001b[38;5;28minput\u001b[39m())\n",
      "\u001b[1;31mValueError\u001b[0m: invalid literal for int() with base 10: ''"
     ]
    }
   ],
   "source": [
    "my_list =[]\n",
    "additionlist=[]\n",
    "howmany = int(input(\"Number of elements that will be in the list: \"))\n",
    "\n",
    "for i in range(0,howmany):\n",
    "    tobeadded = int(input())\n",
    "    my_list.append(tobeadded)\n",
    "\n",
    "#print(my_list)\n",
    "\n",
    "target = int(input(\"Type the number that you want the addition of two other numbers in the list to add up to: \"))\n",
    "\n",
    "def expectedoutcome():\n",
    "    for item in my_list:\n",
    "        for otheritem in my_list:\n",
    "            if item != otheritem and item + otheritem == target:\n",
    "                additionlist.append(item)\n",
    "                if item not in additionlist:\n",
    "                    additionlist.append(otheritem)\n",
    "    print(additionlist)\n",
    "\n",
    "expectedoutcome()"
   ]
  }
 ],
 "metadata": {
  "kernelspec": {
   "display_name": "Python 3.10.2 64-bit",
   "language": "python",
   "name": "python3"
  },
  "language_info": {
   "codemirror_mode": {
    "name": "ipython",
    "version": 3
   },
   "file_extension": ".py",
   "mimetype": "text/x-python",
   "name": "python",
   "nbconvert_exporter": "python",
   "pygments_lexer": "ipython3",
   "version": "3.10.2"
  },
  "orig_nbformat": 4,
  "vscode": {
   "interpreter": {
    "hash": "26de051ba29f2982a8de78e945f0abaf191376122a1563185a90213a26c5da77"
   }
  }
 },
 "nbformat": 4,
 "nbformat_minor": 2
}
