my_list =[]
additionlist=[]
howmany = int(input("Number of elements that will be in the list: "))

for i in range(0,howmany):
    tobeadded = int(input())
    my_list.append(tobeadded)

#print(my_list)

target = int(input("Type the number that you want the addition of two other numbers in the list to add up to: "))

def expectedoutcome():
    for item in my_list:
        for otheritem in my_list:
            if item != otheritem and item + otheritem == target:
                additionlist.append(item)
                if item not in additionlist:
                    additionlist.append(otheritem)
    print(additionlist)

expectedoutcome()
