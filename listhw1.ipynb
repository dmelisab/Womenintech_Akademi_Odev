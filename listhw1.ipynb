{
 "cells": [
  {
   "cell_type": "code",
   "execution_count": 1,
   "metadata": {},
   "outputs": [
    {
     "name": "stdout",
     "output_type": "stream",
     "text": [
      "[5, 8, 6, 0, 10, 3, 2, 7]\n",
      "The elements that are missing in this list are: [1, 4, 9]\n",
      "The ordered list is: [0, 1, 2, 3, 4, 5, 6, 7, 8, 9, 10]\n"
     ]
    }
   ],
   "source": [
    "import random \n",
    "my_list = []\n",
    "\n",
    "for i in range(0,11):\n",
    "    if i not in my_list:\n",
    "        my_list.insert(i,i)\n",
    "\n",
    "random.shuffle(my_list)\n",
    "my_list.remove(1)\n",
    "my_list.remove(4)\n",
    "my_list.remove(9)\n",
    "print(my_list)\n",
    "\n",
    "my_otherlist=[]\n",
    "\n",
    "for item in range(0,11):\n",
    "    if item not in my_list:\n",
    "        my_otherlist.append(item)\n",
    "            \n",
    "\n",
    "print(\"The elements that are missing in this list are:\" ,my_otherlist)\n",
    "\n",
    "anotherlist = my_list + my_otherlist\n",
    "anotherlist.sort()\n",
    "print(\"The ordered list is:\", anotherlist)\n"
   ]
  }
 ],
 "metadata": {
  "kernelspec": {
   "display_name": "Python 3.10.2 64-bit",
   "language": "python",
   "name": "python3"
  },
  "language_info": {
   "codemirror_mode": {
    "name": "ipython",
    "version": 3
   },
   "file_extension": ".py",
   "mimetype": "text/x-python",
   "name": "python",
   "nbconvert_exporter": "python",
   "pygments_lexer": "ipython3",
   "version": "3.10.2"
  },
  "orig_nbformat": 4,
  "vscode": {
   "interpreter": {
    "hash": "26de051ba29f2982a8de78e945f0abaf191376122a1563185a90213a26c5da77"
   }
  }
 },
 "nbformat": 4,
 "nbformat_minor": 2
}
